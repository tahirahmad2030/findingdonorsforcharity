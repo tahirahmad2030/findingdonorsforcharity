{
 "cells": [
  {
   "cell_type": "markdown",
   "metadata": {},
   "source": [
    "# Machine Learning Engineer Nanodegree\n",
    "## Supervised Learning\n",
    "## Project: Finding Donors for *CharityML*"
   ]
  },
  {
   "cell_type": "markdown",
   "metadata": {},
   "source": [
    "Welcome to the second project of the Machine Learning Engineer Nanodegree! In this notebook, some template code has already been provided for you, and it will be your job to implement the additional functionality necessary to successfully complete this project. Sections that begin with **'Implementation'** in the header indicate that the following block of code will require additional functionality which you must provide. Instructions will be provided for each section and the specifics of the implementation are marked in the code block with a `'TODO'` statement. Please be sure to read the instructions carefully!\n",
    "\n",
    "In addition to implementing code, there will be questions that you must answer which relate to the project and your implementation. Each section where you will answer a question is preceded by a **'Question X'** header. Carefully read each question and provide thorough answers in the following text boxes that begin with **'Answer:'**. Your project submission will be evaluated based on your answers to each of the questions and the implementation you provide.  \n",
    "\n",
    ">**Note:** Code and Markdown cells can be executed using the **Shift + Enter** keyboard shortcut. In addition, Markdown cells can be edited by typically double-clicking the cell to enter edit mode."
   ]
  },
  {
   "cell_type": "markdown",
   "metadata": {},
   "source": [
    "## Getting Started\n",
    "\n",
    "In this project, you will employ several supervised algorithms of your choice to accurately model individuals' income using data collected from the 1994 U.S. Census. You will then choose the best candidate algorithm from preliminary results and further optimize this algorithm to best model the data. Your goal with this implementation is to construct a model that accurately predicts whether an individual makes more than $50,000. This sort of task can arise in a non-profit setting, where organizations survive on donations.  Understanding an individual's income can help a non-profit better understand how large of a donation to request, or whether or not they should reach out to begin with.  While it can be difficult to determine an individual's general income bracket directly from public sources, we can (as we will see) infer this value from other publically available features. \n",
    "\n",
    "The dataset for this project originates from the [UCI Machine Learning Repository](https://archive.ics.uci.edu/ml/datasets/Census+Income). The datset was donated by Ron Kohavi and Barry Becker, after being published in the article _\"Scaling Up the Accuracy of Naive-Bayes Classifiers: A Decision-Tree Hybrid\"_. You can find the article by Ron Kohavi [online](https://www.aaai.org/Papers/KDD/1996/KDD96-033.pdf). The data we investigate here consists of small changes to the original dataset, such as removing the `'fnlwgt'` feature and records with missing or ill-formatted entries."
   ]
  },
  {
   "cell_type": "markdown",
   "metadata": {},
   "source": [
    "----\n",
    "## Exploring the Data\n",
    "Run the code cell below to load necessary Python libraries and load the census data. Note that the last column from this dataset, `'income'`, will be our target label (whether an individual makes more than, or at most, $50,000 annually). All other columns are features about each individual in the census database."
   ]
  },
  {
   "cell_type": "code",
   "execution_count": 17,
   "metadata": {
    "collapsed": false
   },
   "outputs": [
    {
     "data": {
      "text/html": [
       "<div style=\"max-height:1000px;max-width:1500px;overflow:auto;\">\n",
       "<table border=\"1\" class=\"dataframe\">\n",
       "  <thead>\n",
       "    <tr style=\"text-align: right;\">\n",
       "      <th></th>\n",
       "      <th>age</th>\n",
       "      <th>workclass</th>\n",
       "      <th>education_level</th>\n",
       "      <th>education-num</th>\n",
       "      <th>marital-status</th>\n",
       "      <th>occupation</th>\n",
       "      <th>relationship</th>\n",
       "      <th>race</th>\n",
       "      <th>sex</th>\n",
       "      <th>capital-gain</th>\n",
       "      <th>capital-loss</th>\n",
       "      <th>hours-per-week</th>\n",
       "      <th>native-country</th>\n",
       "      <th>income</th>\n",
       "    </tr>\n",
       "  </thead>\n",
       "  <tbody>\n",
       "    <tr>\n",
       "      <th>0 </th>\n",
       "      <td> 39</td>\n",
       "      <td>         State-gov</td>\n",
       "      <td>     Bachelors</td>\n",
       "      <td> 13</td>\n",
       "      <td>          Never-married</td>\n",
       "      <td>       Adm-clerical</td>\n",
       "      <td>  Not-in-family</td>\n",
       "      <td>               White</td>\n",
       "      <td>    Male</td>\n",
       "      <td>  2174</td>\n",
       "      <td> 0</td>\n",
       "      <td> 40</td>\n",
       "      <td>  United-States</td>\n",
       "      <td> &lt;=50K</td>\n",
       "    </tr>\n",
       "    <tr>\n",
       "      <th>1 </th>\n",
       "      <td> 50</td>\n",
       "      <td>  Self-emp-not-inc</td>\n",
       "      <td>     Bachelors</td>\n",
       "      <td> 13</td>\n",
       "      <td>     Married-civ-spouse</td>\n",
       "      <td>    Exec-managerial</td>\n",
       "      <td>        Husband</td>\n",
       "      <td>               White</td>\n",
       "      <td>    Male</td>\n",
       "      <td>     0</td>\n",
       "      <td> 0</td>\n",
       "      <td> 13</td>\n",
       "      <td>  United-States</td>\n",
       "      <td> &lt;=50K</td>\n",
       "    </tr>\n",
       "    <tr>\n",
       "      <th>2 </th>\n",
       "      <td> 38</td>\n",
       "      <td>           Private</td>\n",
       "      <td>       HS-grad</td>\n",
       "      <td>  9</td>\n",
       "      <td>               Divorced</td>\n",
       "      <td>  Handlers-cleaners</td>\n",
       "      <td>  Not-in-family</td>\n",
       "      <td>               White</td>\n",
       "      <td>    Male</td>\n",
       "      <td>     0</td>\n",
       "      <td> 0</td>\n",
       "      <td> 40</td>\n",
       "      <td>  United-States</td>\n",
       "      <td> &lt;=50K</td>\n",
       "    </tr>\n",
       "    <tr>\n",
       "      <th>3 </th>\n",
       "      <td> 53</td>\n",
       "      <td>           Private</td>\n",
       "      <td>          11th</td>\n",
       "      <td>  7</td>\n",
       "      <td>     Married-civ-spouse</td>\n",
       "      <td>  Handlers-cleaners</td>\n",
       "      <td>        Husband</td>\n",
       "      <td>               Black</td>\n",
       "      <td>    Male</td>\n",
       "      <td>     0</td>\n",
       "      <td> 0</td>\n",
       "      <td> 40</td>\n",
       "      <td>  United-States</td>\n",
       "      <td> &lt;=50K</td>\n",
       "    </tr>\n",
       "    <tr>\n",
       "      <th>4 </th>\n",
       "      <td> 28</td>\n",
       "      <td>           Private</td>\n",
       "      <td>     Bachelors</td>\n",
       "      <td> 13</td>\n",
       "      <td>     Married-civ-spouse</td>\n",
       "      <td>     Prof-specialty</td>\n",
       "      <td>           Wife</td>\n",
       "      <td>               Black</td>\n",
       "      <td>  Female</td>\n",
       "      <td>     0</td>\n",
       "      <td> 0</td>\n",
       "      <td> 40</td>\n",
       "      <td>           Cuba</td>\n",
       "      <td> &lt;=50K</td>\n",
       "    </tr>\n",
       "    <tr>\n",
       "      <th>5 </th>\n",
       "      <td> 37</td>\n",
       "      <td>           Private</td>\n",
       "      <td>       Masters</td>\n",
       "      <td> 14</td>\n",
       "      <td>     Married-civ-spouse</td>\n",
       "      <td>    Exec-managerial</td>\n",
       "      <td>           Wife</td>\n",
       "      <td>               White</td>\n",
       "      <td>  Female</td>\n",
       "      <td>     0</td>\n",
       "      <td> 0</td>\n",
       "      <td> 40</td>\n",
       "      <td>  United-States</td>\n",
       "      <td> &lt;=50K</td>\n",
       "    </tr>\n",
       "    <tr>\n",
       "      <th>6 </th>\n",
       "      <td> 49</td>\n",
       "      <td>           Private</td>\n",
       "      <td>           9th</td>\n",
       "      <td>  5</td>\n",
       "      <td>  Married-spouse-absent</td>\n",
       "      <td>      Other-service</td>\n",
       "      <td>  Not-in-family</td>\n",
       "      <td>               Black</td>\n",
       "      <td>  Female</td>\n",
       "      <td>     0</td>\n",
       "      <td> 0</td>\n",
       "      <td> 16</td>\n",
       "      <td>        Jamaica</td>\n",
       "      <td> &lt;=50K</td>\n",
       "    </tr>\n",
       "    <tr>\n",
       "      <th>7 </th>\n",
       "      <td> 52</td>\n",
       "      <td>  Self-emp-not-inc</td>\n",
       "      <td>       HS-grad</td>\n",
       "      <td>  9</td>\n",
       "      <td>     Married-civ-spouse</td>\n",
       "      <td>    Exec-managerial</td>\n",
       "      <td>        Husband</td>\n",
       "      <td>               White</td>\n",
       "      <td>    Male</td>\n",
       "      <td>     0</td>\n",
       "      <td> 0</td>\n",
       "      <td> 45</td>\n",
       "      <td>  United-States</td>\n",
       "      <td>  &gt;50K</td>\n",
       "    </tr>\n",
       "    <tr>\n",
       "      <th>8 </th>\n",
       "      <td> 31</td>\n",
       "      <td>           Private</td>\n",
       "      <td>       Masters</td>\n",
       "      <td> 14</td>\n",
       "      <td>          Never-married</td>\n",
       "      <td>     Prof-specialty</td>\n",
       "      <td>  Not-in-family</td>\n",
       "      <td>               White</td>\n",
       "      <td>  Female</td>\n",
       "      <td> 14084</td>\n",
       "      <td> 0</td>\n",
       "      <td> 50</td>\n",
       "      <td>  United-States</td>\n",
       "      <td>  &gt;50K</td>\n",
       "    </tr>\n",
       "    <tr>\n",
       "      <th>9 </th>\n",
       "      <td> 42</td>\n",
       "      <td>           Private</td>\n",
       "      <td>     Bachelors</td>\n",
       "      <td> 13</td>\n",
       "      <td>     Married-civ-spouse</td>\n",
       "      <td>    Exec-managerial</td>\n",
       "      <td>        Husband</td>\n",
       "      <td>               White</td>\n",
       "      <td>    Male</td>\n",
       "      <td>  5178</td>\n",
       "      <td> 0</td>\n",
       "      <td> 40</td>\n",
       "      <td>  United-States</td>\n",
       "      <td>  &gt;50K</td>\n",
       "    </tr>\n",
       "    <tr>\n",
       "      <th>10</th>\n",
       "      <td> 37</td>\n",
       "      <td>           Private</td>\n",
       "      <td>  Some-college</td>\n",
       "      <td> 10</td>\n",
       "      <td>     Married-civ-spouse</td>\n",
       "      <td>    Exec-managerial</td>\n",
       "      <td>        Husband</td>\n",
       "      <td>               Black</td>\n",
       "      <td>    Male</td>\n",
       "      <td>     0</td>\n",
       "      <td> 0</td>\n",
       "      <td> 80</td>\n",
       "      <td>  United-States</td>\n",
       "      <td>  &gt;50K</td>\n",
       "    </tr>\n",
       "    <tr>\n",
       "      <th>11</th>\n",
       "      <td> 30</td>\n",
       "      <td>         State-gov</td>\n",
       "      <td>     Bachelors</td>\n",
       "      <td> 13</td>\n",
       "      <td>     Married-civ-spouse</td>\n",
       "      <td>     Prof-specialty</td>\n",
       "      <td>        Husband</td>\n",
       "      <td>  Asian-Pac-Islander</td>\n",
       "      <td>    Male</td>\n",
       "      <td>     0</td>\n",
       "      <td> 0</td>\n",
       "      <td> 40</td>\n",
       "      <td>          India</td>\n",
       "      <td>  &gt;50K</td>\n",
       "    </tr>\n",
       "    <tr>\n",
       "      <th>12</th>\n",
       "      <td> 23</td>\n",
       "      <td>           Private</td>\n",
       "      <td>     Bachelors</td>\n",
       "      <td> 13</td>\n",
       "      <td>          Never-married</td>\n",
       "      <td>       Adm-clerical</td>\n",
       "      <td>      Own-child</td>\n",
       "      <td>               White</td>\n",
       "      <td>  Female</td>\n",
       "      <td>     0</td>\n",
       "      <td> 0</td>\n",
       "      <td> 30</td>\n",
       "      <td>  United-States</td>\n",
       "      <td> &lt;=50K</td>\n",
       "    </tr>\n",
       "    <tr>\n",
       "      <th>13</th>\n",
       "      <td> 32</td>\n",
       "      <td>           Private</td>\n",
       "      <td>    Assoc-acdm</td>\n",
       "      <td> 12</td>\n",
       "      <td>          Never-married</td>\n",
       "      <td>              Sales</td>\n",
       "      <td>  Not-in-family</td>\n",
       "      <td>               Black</td>\n",
       "      <td>    Male</td>\n",
       "      <td>     0</td>\n",
       "      <td> 0</td>\n",
       "      <td> 50</td>\n",
       "      <td>  United-States</td>\n",
       "      <td> &lt;=50K</td>\n",
       "    </tr>\n",
       "    <tr>\n",
       "      <th>14</th>\n",
       "      <td> 34</td>\n",
       "      <td>           Private</td>\n",
       "      <td>       7th-8th</td>\n",
       "      <td>  4</td>\n",
       "      <td>     Married-civ-spouse</td>\n",
       "      <td>   Transport-moving</td>\n",
       "      <td>        Husband</td>\n",
       "      <td>  Amer-Indian-Eskimo</td>\n",
       "      <td>    Male</td>\n",
       "      <td>     0</td>\n",
       "      <td> 0</td>\n",
       "      <td> 45</td>\n",
       "      <td>         Mexico</td>\n",
       "      <td> &lt;=50K</td>\n",
       "    </tr>\n",
       "    <tr>\n",
       "      <th>15</th>\n",
       "      <td> 25</td>\n",
       "      <td>  Self-emp-not-inc</td>\n",
       "      <td>       HS-grad</td>\n",
       "      <td>  9</td>\n",
       "      <td>          Never-married</td>\n",
       "      <td>    Farming-fishing</td>\n",
       "      <td>      Own-child</td>\n",
       "      <td>               White</td>\n",
       "      <td>    Male</td>\n",
       "      <td>     0</td>\n",
       "      <td> 0</td>\n",
       "      <td> 35</td>\n",
       "      <td>  United-States</td>\n",
       "      <td> &lt;=50K</td>\n",
       "    </tr>\n",
       "    <tr>\n",
       "      <th>16</th>\n",
       "      <td> 32</td>\n",
       "      <td>           Private</td>\n",
       "      <td>       HS-grad</td>\n",
       "      <td>  9</td>\n",
       "      <td>          Never-married</td>\n",
       "      <td>  Machine-op-inspct</td>\n",
       "      <td>      Unmarried</td>\n",
       "      <td>               White</td>\n",
       "      <td>    Male</td>\n",
       "      <td>     0</td>\n",
       "      <td> 0</td>\n",
       "      <td> 40</td>\n",
       "      <td>  United-States</td>\n",
       "      <td> &lt;=50K</td>\n",
       "    </tr>\n",
       "    <tr>\n",
       "      <th>17</th>\n",
       "      <td> 38</td>\n",
       "      <td>           Private</td>\n",
       "      <td>          11th</td>\n",
       "      <td>  7</td>\n",
       "      <td>     Married-civ-spouse</td>\n",
       "      <td>              Sales</td>\n",
       "      <td>        Husband</td>\n",
       "      <td>               White</td>\n",
       "      <td>    Male</td>\n",
       "      <td>     0</td>\n",
       "      <td> 0</td>\n",
       "      <td> 50</td>\n",
       "      <td>  United-States</td>\n",
       "      <td> &lt;=50K</td>\n",
       "    </tr>\n",
       "    <tr>\n",
       "      <th>18</th>\n",
       "      <td> 43</td>\n",
       "      <td>  Self-emp-not-inc</td>\n",
       "      <td>       Masters</td>\n",
       "      <td> 14</td>\n",
       "      <td>               Divorced</td>\n",
       "      <td>    Exec-managerial</td>\n",
       "      <td>      Unmarried</td>\n",
       "      <td>               White</td>\n",
       "      <td>  Female</td>\n",
       "      <td>     0</td>\n",
       "      <td> 0</td>\n",
       "      <td> 45</td>\n",
       "      <td>  United-States</td>\n",
       "      <td>  &gt;50K</td>\n",
       "    </tr>\n",
       "    <tr>\n",
       "      <th>19</th>\n",
       "      <td> 40</td>\n",
       "      <td>           Private</td>\n",
       "      <td>     Doctorate</td>\n",
       "      <td> 16</td>\n",
       "      <td>     Married-civ-spouse</td>\n",
       "      <td>     Prof-specialty</td>\n",
       "      <td>        Husband</td>\n",
       "      <td>               White</td>\n",
       "      <td>    Male</td>\n",
       "      <td>     0</td>\n",
       "      <td> 0</td>\n",
       "      <td> 60</td>\n",
       "      <td>  United-States</td>\n",
       "      <td>  &gt;50K</td>\n",
       "    </tr>\n",
       "  </tbody>\n",
       "</table>\n",
       "<p>20 rows × 14 columns</p>\n",
       "</div>"
      ],
      "text/plain": [
       "    age          workclass education_level  education-num  \\\n",
       "0    39          State-gov       Bachelors             13   \n",
       "1    50   Self-emp-not-inc       Bachelors             13   \n",
       "2    38            Private         HS-grad              9   \n",
       "3    53            Private            11th              7   \n",
       "4    28            Private       Bachelors             13   \n",
       "5    37            Private         Masters             14   \n",
       "6    49            Private             9th              5   \n",
       "7    52   Self-emp-not-inc         HS-grad              9   \n",
       "8    31            Private         Masters             14   \n",
       "9    42            Private       Bachelors             13   \n",
       "10   37            Private    Some-college             10   \n",
       "11   30          State-gov       Bachelors             13   \n",
       "12   23            Private       Bachelors             13   \n",
       "13   32            Private      Assoc-acdm             12   \n",
       "14   34            Private         7th-8th              4   \n",
       "15   25   Self-emp-not-inc         HS-grad              9   \n",
       "16   32            Private         HS-grad              9   \n",
       "17   38            Private            11th              7   \n",
       "18   43   Self-emp-not-inc         Masters             14   \n",
       "19   40            Private       Doctorate             16   \n",
       "\n",
       "            marital-status          occupation    relationship  \\\n",
       "0            Never-married        Adm-clerical   Not-in-family   \n",
       "1       Married-civ-spouse     Exec-managerial         Husband   \n",
       "2                 Divorced   Handlers-cleaners   Not-in-family   \n",
       "3       Married-civ-spouse   Handlers-cleaners         Husband   \n",
       "4       Married-civ-spouse      Prof-specialty            Wife   \n",
       "5       Married-civ-spouse     Exec-managerial            Wife   \n",
       "6    Married-spouse-absent       Other-service   Not-in-family   \n",
       "7       Married-civ-spouse     Exec-managerial         Husband   \n",
       "8            Never-married      Prof-specialty   Not-in-family   \n",
       "9       Married-civ-spouse     Exec-managerial         Husband   \n",
       "10      Married-civ-spouse     Exec-managerial         Husband   \n",
       "11      Married-civ-spouse      Prof-specialty         Husband   \n",
       "12           Never-married        Adm-clerical       Own-child   \n",
       "13           Never-married               Sales   Not-in-family   \n",
       "14      Married-civ-spouse    Transport-moving         Husband   \n",
       "15           Never-married     Farming-fishing       Own-child   \n",
       "16           Never-married   Machine-op-inspct       Unmarried   \n",
       "17      Married-civ-spouse               Sales         Husband   \n",
       "18                Divorced     Exec-managerial       Unmarried   \n",
       "19      Married-civ-spouse      Prof-specialty         Husband   \n",
       "\n",
       "                   race      sex  capital-gain  capital-loss  hours-per-week  \\\n",
       "0                 White     Male          2174             0              40   \n",
       "1                 White     Male             0             0              13   \n",
       "2                 White     Male             0             0              40   \n",
       "3                 Black     Male             0             0              40   \n",
       "4                 Black   Female             0             0              40   \n",
       "5                 White   Female             0             0              40   \n",
       "6                 Black   Female             0             0              16   \n",
       "7                 White     Male             0             0              45   \n",
       "8                 White   Female         14084             0              50   \n",
       "9                 White     Male          5178             0              40   \n",
       "10                Black     Male             0             0              80   \n",
       "11   Asian-Pac-Islander     Male             0             0              40   \n",
       "12                White   Female             0             0              30   \n",
       "13                Black     Male             0             0              50   \n",
       "14   Amer-Indian-Eskimo     Male             0             0              45   \n",
       "15                White     Male             0             0              35   \n",
       "16                White     Male             0             0              40   \n",
       "17                White     Male             0             0              50   \n",
       "18                White   Female             0             0              45   \n",
       "19                White     Male             0             0              60   \n",
       "\n",
       "    native-country income  \n",
       "0    United-States  <=50K  \n",
       "1    United-States  <=50K  \n",
       "2    United-States  <=50K  \n",
       "3    United-States  <=50K  \n",
       "4             Cuba  <=50K  \n",
       "5    United-States  <=50K  \n",
       "6          Jamaica  <=50K  \n",
       "7    United-States   >50K  \n",
       "8    United-States   >50K  \n",
       "9    United-States   >50K  \n",
       "10   United-States   >50K  \n",
       "11           India   >50K  \n",
       "12   United-States  <=50K  \n",
       "13   United-States  <=50K  \n",
       "14          Mexico  <=50K  \n",
       "15   United-States  <=50K  \n",
       "16   United-States  <=50K  \n",
       "17   United-States  <=50K  \n",
       "18   United-States   >50K  \n",
       "19   United-States   >50K  \n",
       "\n",
       "[20 rows x 14 columns]"
      ]
     },
     "metadata": {},
     "output_type": "display_data"
    }
   ],
   "source": [
    "# Import libraries necessary for this project\n",
    "import numpy as np\n",
    "import pandas as pd\n",
    "from time import time\n",
    "from IPython.display import display # Allows the use of display() for DataFrames\n",
    "\n",
    "# Import supplementary visualization code visuals.py\n",
    "import visuals as vs\n",
    "\n",
    "# Pretty display for notebooks\n",
    "%matplotlib inline\n",
    "\n",
    "# Load the Census dataset\n",
    "data = pd.read_csv(\"census.csv\")\n",
    "\n",
    "# Success - Display the first record\n",
    "display(data.head(n=20))"
   ]
  },
  {
   "cell_type": "markdown",
   "metadata": {},
   "source": [
    "### Implementation: Data Exploration\n",
    "A cursory investigation of the dataset will determine how many individuals fit into either group, and will tell us about the percentage of these individuals making more than \\$50,000. In the code cell below, you will need to compute the following:\n",
    "- The total number of records, `'n_records'`\n",
    "- The number of individuals making more than \\$50,000 annually, `'n_greater_50k'`.\n",
    "- The number of individuals making at most \\$50,000 annually, `'n_at_most_50k'`.\n",
    "- The percentage of individuals making more than \\$50,000 annually, `'greater_percent'`.\n",
    "\n",
    "**Hint:** You may need to look at the table above to understand how the `'income'` entries are formatted. "
   ]
  },
  {
   "cell_type": "code",
   "execution_count": 4,
   "metadata": {
    "collapsed": false
   },
   "outputs": [
    {
     "name": "stdout",
     "output_type": "stream",
     "text": [
      "Total number of records: 45222\n",
      "Individuals making more than $50,000: 11208\n",
      "Individuals making at most $50,000: 34014\n",
      "Percentage of individuals making more than $50,000: 24.78%\n"
     ]
    }
   ],
   "source": [
    "# TODO: Total number of records\n",
    "n_records = len(data.index)\n",
    "\n",
    "# TODO: Number of records where individual's income is more than $50,000\n",
    "n_greater_50k = 0\n",
    "\n",
    "# TODO: Number of records where individual's income is at most $50,000\n",
    "n_at_most_50k = 0\n",
    "\n",
    "income_data = data[data.columns[13]]\n",
    "for income in income_data:\n",
    "    if income ==\">50K\":\n",
    "        n_greater_50k=n_greater_50k + 1\n",
    "    elif income ==\"<=50K\":\n",
    "        n_at_most_50k=n_at_most_50k + 1\n",
    "        \n",
    "\n",
    "# TODO: Percentage of individuals whose income is more than $50,000\n",
    "greater_percent = (float(n_greater_50k)/float(n_records))*100\n",
    "\n",
    "# Print the results\n",
    "print \"Total number of records: {}\".format(n_records)\n",
    "print \"Individuals making more than $50,000: {}\".format(n_greater_50k)\n",
    "print \"Individuals making at most $50,000: {}\".format(n_at_most_50k)\n",
    "print \"Percentage of individuals making more than $50,000: {:.2f}%\".format(greater_percent)"
   ]
  },
  {
   "cell_type": "markdown",
   "metadata": {},
   "source": [
    "----\n",
    "## Preparing the Data\n",
    "Before data can be used as input for machine learning algorithms, it often must be cleaned, formatted, and restructured — this is typically known as **preprocessing**. Fortunately, for this dataset, there are no invalid or missing entries we must deal with, however, there are some qualities about certain features that must be adjusted. This preprocessing can help tremendously with the outcome and predictive power of nearly all learning algorithms."
   ]
  },
  {
   "cell_type": "markdown",
   "metadata": {},
   "source": [
    "### Transforming Skewed Continuous Features\n",
    "A dataset may sometimes contain at least one feature whose values tend to lie near a single number, but will also have a non-trivial number of vastly larger or smaller values than that single number.  Algorithms can be sensitive to such distributions of values and can underperform if the range is not properly normalized. With the census dataset two features fit this description: '`capital-gain'` and `'capital-loss'`. \n",
    "\n",
    "Run the code cell below to plot a histogram of these two features. Note the range of the values present and how they are distributed."
   ]
  },
  {
   "cell_type": "code",
   "execution_count": 5,
   "metadata": {
    "collapsed": false,
    "scrolled": true
   },
   "outputs": [
    {
     "data": {
      "image/png": "[encoded data removed]",
      "text/plain": [
       "<matplotlib.figure.Figure at 0x7f6c2cc36cd0>"
      ]
     },
     "metadata": {},
     "output_type": "display_data"
    }
   ],
   "source": [
    "# Split the data into features and target label\n",
    "income_raw = data['income']\n",
    "features_raw = data.drop('income', axis = 1)\n",
    "\n",
    "# Visualize skewed continuous features of original data\n",
    "vs.distribution(data)"
   ]
  },
  {
   "cell_type": "markdown",
   "metadata": {},
   "source": [
    "For highly-skewed feature distributions such as `'capital-gain'` and `'capital-loss'`, it is common practice to apply a <a href=\"https://en.wikipedia.org/wiki/Data_transformation_(statistics)\">logarithmic transformation</a> on the data so that the very large and very small values do not negatively affect the performance of a learning algorithm. Using a logarithmic transformation significantly reduces the range of values caused by outliers. Care must be taken when applying this transformation however: The logarithm of `0` is undefined, so we must translate the values by a small amount above `0` to apply the the logarithm successfully.\n",
    "\n",
    "Run the code cell below to perform a transformation on the data and visualize the results. Again, note the range of values and how they are distributed. "
   ]
  },
  {
   "cell_type": "code",
   "execution_count": 6,
   "metadata": {
    "collapsed": false
   },
   "outputs": [
    {
     "data": {
      "image/png": "[encoded data removed]",
      "text/plain": [
       "<matplotlib.figure.Figure at 0x7f6c2a83bb50>"
      ]
     },
     "metadata": {},
     "output_type": "display_data"
    }
   ],
   "source": [
    "# Log-transform the skewed features\n",
    "skewed = ['capital-gain', 'capital-loss']\n",
    "features_raw[skewed] = data[skewed].apply(lambda x: np.log(x + 1))\n",
    "# Visualize the new log distributions\n",
    "vs.distribution(features_raw, transformed = True)"
   ]
  },
  {
   "cell_type": "markdown",
   "metadata": {},
   "source": [
    "### Normalizing Numerical Features\n",
    "In addition to performing transformations on features that are highly skewed, it is often good practice to perform some type of scaling on numerical features. Applying a scaling to the data does not change the shape of each feature's distribution (such as `'capital-gain'` or `'capital-loss'` above); however, normalization ensures that each feature is treated equally when applying supervised learners. Note that once scaling is applied, observing the data in its raw form will no longer have the same original meaning, as exampled below.\n",
    "\n",
    "Run the code cell below to normalize each numerical feature. We will use [`sklearn.preprocessing.MinMaxScaler`](http://scikit-learn.org/stable/modules/generated/sklearn.preprocessing.MinMaxScaler.html) for this."
   ]
  },
  {
   "cell_type": "code",
   "execution_count": 18,
   "metadata": {
    "collapsed": false
   },
   "outputs": [
    {
     "data": {
      "text/html": [
       "<div style=\"max-height:1000px;max-width:1500px;overflow:auto;\">\n",
       "<table border=\"1\" class=\"dataframe\">\n",
       "  <thead>\n",
       "    <tr style=\"text-align: right;\">\n",
       "      <th></th>\n",
       "      <th>age</th>\n",
       "      <th>workclass</th>\n",
       "      <th>education_level</th>\n",
       "      <th>education-num</th>\n",
       "      <th>marital-status</th>\n",
       "      <th>occupation</th>\n",
       "      <th>relationship</th>\n",
       "      <th>race</th>\n",
       "      <th>sex</th>\n",
       "      <th>capital-gain</th>\n",
       "      <th>capital-loss</th>\n",
       "      <th>hours-per-week</th>\n",
       "      <th>native-country</th>\n",
       "    </tr>\n",
       "  </thead>\n",
       "  <tbody>\n",
       "    <tr>\n",
       "      <th>0</th>\n",
       "      <td> 0.30137</td>\n",
       "      <td>  State-gov</td>\n",
       "      <td>  Bachelors</td>\n",
       "      <td> 0.8</td>\n",
       "      <td>  Never-married</td>\n",
       "      <td>  Adm-clerical</td>\n",
       "      <td>  Not-in-family</td>\n",
       "      <td>  White</td>\n",
       "      <td>  Male</td>\n",
       "      <td> 0.02174</td>\n",
       "      <td> 0</td>\n",
       "      <td> 0.397959</td>\n",
       "      <td>  United-States</td>\n",
       "    </tr>\n",
       "  </tbody>\n",
       "</table>\n",
       "<p>1 rows × 13 columns</p>\n",
       "</div>"
      ],
      "text/plain": [
       "       age   workclass education_level  education-num  marital-status  \\\n",
       "0  0.30137   State-gov       Bachelors            0.8   Never-married   \n",
       "\n",
       "      occupation    relationship    race    sex  capital-gain  capital-loss  \\\n",
       "0   Adm-clerical   Not-in-family   White   Male       0.02174             0   \n",
       "\n",
       "   hours-per-week  native-country  \n",
       "0        0.397959   United-States  \n",
       "\n",
       "[1 rows x 13 columns]"
      ]
     },
     "metadata": {},
     "output_type": "display_data"
    }
   ],
   "source": [
    "# Import sklearn.preprocessing.StandardScaler\n",
    "from sklearn.preprocessing import MinMaxScaler\n",
    "\n",
    "# Initialize a scaler, then apply it to the features\n",
    "scaler = MinMaxScaler()\n",
    "numerical = ['age', 'education-num', 'capital-gain', 'capital-loss', 'hours-per-week']\n",
    "features_raw[numerical] = scaler.fit_transform(data[numerical])\n",
    "\n",
    "# Show an example of a record with scaling applied\n",
    "display(features_raw.head(n = 1))"
   ]
  },
  {
   "cell_type": "markdown",
   "metadata": {},
   "source": [
    "### Implementation: Data Preprocessing\n",
    "\n",
    "From the table in **Exploring the Data** above, we can see there are several features for each record that are non-numeric. Typically, learning algorithms expect input to be numeric, which requires that non-numeric features (called *categorical variables*) be converted. One popular way to convert categorical variables is by using the **one-hot encoding** scheme. One-hot encoding creates a _\"dummy\"_ variable for each possible category of each non-numeric feature. For example, assume `someFeature` has three possible entries: `A`, `B`, or `C`. We then encode this feature into `someFeature_A`, `someFeature_B` and `someFeature_C`.\n",
    "\n",
    "|   | someFeature |                    | someFeature_A | someFeature_B | someFeature_C |\n",
    "| :-: | :-: |                            | :-: | :-: | :-: |\n",
    "| 0 |  B  |  | 0 | 1 | 0 |\n",
    "| 1 |  C  | ----> one-hot encode ----> | 0 | 0 | 1 |\n",
    "| 2 |  A  |  | 1 | 0 | 0 |\n",
    "\n",
    "Additionally, as with the non-numeric features, we need to convert the non-numeric target label, `'income'` to numerical values for the learning algorithm to work. Since there are only two possible categories for this label (\"<=50K\" and \">50K\"), we can avoid using one-hot encoding and simply encode these two categories as `0` and `1`, respectively. In code cell below, you will need to implement the following:\n",
    " - Use [`pandas.get_dummies()`](http://pandas.pydata.org/pandas-docs/stable/generated/pandas.get_dummies.html?highlight=get_dummies#pandas.get_dummies) to perform one-hot encoding on the `'features_raw'` data.\n",
    " - Convert the target label `'income_raw'` to numerical entries.\n",
    "   - Set records with \"<=50K\" to `0` and records with \">50K\" to `1`."
   ]
  },
  {
   "cell_type": "code",
   "execution_count": 8,
   "metadata": {
    "collapsed": false,
    "scrolled": true
   },
   "outputs": [
    {
     "name": "stdout",
     "output_type": "stream",
     "text": [
      "502 total features after one-hot encoding.\n"
     ]
    }
   ],
   "source": [
    "# TODO: One-hot encode the 'features_raw' data using pandas.get_dummies()\n",
    "\n",
    "non_numerical = ['age','workclass', 'education_level','education-num', 'marital-status', 'occupation', 'relationship','race','sex','capital-gain','capital-loss','hours-per-week','native-country']\n",
    "df = pd.DataFrame(features_raw, columns=['age','workclass', 'education_level','education-num', 'marital-status', 'occupation', 'relationship','race','sex','capital-gain','capital-loss','hours-per-week','native-country'])\n",
    "newdf=pd.DataFrame()\n",
    "for index in range(len(non_numerical)):\n",
    "    df_encoding = pd.get_dummies(df[non_numerical[index]])\n",
    "    newdf = pd.concat([newdf, df_encoding], axis=1)\n",
    "\n",
    "features = newdf      \n",
    "# TODO: Encode the 'income_raw' data to numerical values\n",
    "income={}\n",
    "j=0\n",
    "for i in income_raw:\n",
    "    if i == '<=50K':\n",
    "        income[j] = 0\n",
    "    else:\n",
    "        income[j] = 1\n",
    "    j=j+1\n",
    "\n",
    "# Print the number of features after one-hot encoding\n",
    "encoded = list(features.columns)\n",
    "print \"{} total features after one-hot encoding.\".format(len(encoded))\n",
    "\n",
    "# Uncomment the following line to see the encoded feature names\n"
   ]
  },
  {
   "cell_type": "markdown",
   "metadata": {},
   "source": [
    "### Shuffle and Split Data\n",
    "Now all _categorical variables_ have been converted into numerical features, and all numerical features have been normalized. As always, we will now split the data (both features and their labels) into training and test sets. 80% of the data will be used for training and 20% for testing.\n",
    "\n",
    "Run the code cell below to perform this split."
   ]
  },
  {
   "cell_type": "code",
   "execution_count": 10,
   "metadata": {
    "collapsed": false
   },
   "outputs": [
    {
     "name": "stdout",
     "output_type": "stream",
     "text": [
      "Training set has 36177 samples.\n",
      "Testing set has 9045 samples.\n"
     ]
    }
   ],
   "source": [
    "# Import train_test_split\n",
    "from sklearn.cross_validation import train_test_split\n",
    "\n",
    "# Split the 'features' and 'income' data into training and testing sets\n",
    "X_train, X_test, y_train, y_test = train_test_split(features, income, test_size = 0.2, random_state = 0)\n",
    "\n",
    "# Show the results of the split\n",
    "print \"Training set has {} samples.\".format(X_train.shape[0])\n",
    "print \"Testing set has {} samples.\".format(X_test.shape[0])"
   ]
  },
  {
   "cell_type": "markdown",
   "metadata": {},
   "source": [
    "----\n",
    "## Evaluating Model Performance\n",
    "In this section, we will investigate four different algorithms, and determine which is best at modeling the data. Three of these algorithms will be supervised learners of your choice, and the fourth algorithm is known as a *naive predictor*."
   ]
  },
  {
   "cell_type": "markdown",
   "metadata": {},
   "source": [
    "### Metrics and the Naive Predictor\n",
    "*CharityML*, equipped with their research, knows individuals that make more than \\$50,000 are most likely to donate to their charity. Because of this, *UdacityML* is particularly interested in predicting who makes more than \\$50,000 accurately. It would seem that using **accuracy** as a metric for evaluating a particular model's performace would is appropriate. Additionally, identifying someone that *does not* make more than \\$50,000 as someone who does would be detrimental to *UdacityML*, since they are looking to find individuals willing to donate. Therefore, a model's ability to precisely predict those that make more than \\$50,000 is *more important* than the model's ability to **recall** those individuals. We can use **F-beta score** as a metric that considers both precision and recall:\n",
    "\n",
    "$$ F_{\\beta} = (1 + \\beta^2) \\cdot \\frac{precision \\cdot recall}{\\left( \\beta^2 \\cdot precision \\right) + recall} $$\n",
    "\n",
    "In particular, when $\\beta = 0.5$, more emphasis is placed on precision. This is called the **F$_{0.5}$ score** (or F-score for simplicity).\n",
    "\n",
    "Looking at the distribution of classes (those who make at most \\$50,000, and those who make more), it's clear most individuals do not make more than \\$50,000. This can greatly affect **accuracy**, since we could simply say *\"this person does not make more than \\$50,000\"* and generally be right, without ever looking at the data! Making such a statement would be called **naive**, since we have not considered any information to substantiate the claim. It is always important to consider the *naive prediction* for your data, to help establish a benchmark for whether a model is performing well. That been said, using that prediction would be pointless: If we predicted all people made less than \\$50,000, *UdacityML* would identify no one as donors. "
   ]
  },
  {
   "cell_type": "markdown",
   "metadata": {},
   "source": [
    "### Question 1 - Naive Predictor Performace\n",
    "*If we chose a model that always predicted an individual made more than \\$50,000, what would that model's accuracy and F-score be on this dataset?*  \n",
    "**Note:** You must use the code cell below and assign your results to `'accuracy'` and `'fscore'` to be used later."
   ]
  },
  {
   "cell_type": "code",
   "execution_count": 11,
   "metadata": {
    "collapsed": false
   },
   "outputs": [
    {
     "name": "stdout",
     "output_type": "stream",
     "text": [
      "9045\n",
      "9045\n",
      "Naive Predictor: [Accuracy score: 0.2438, F-score: 0.2872]\n"
     ]
    }
   ],
   "source": [
    "# TODO: Calculate accuracy\n",
    "from sklearn.metrics import accuracy_score\n",
    "from sklearn.metrics import fbeta_score\n",
    "pred=[]\n",
    "i=1\n",
    "while i <= (len(X_test)):\n",
    "    pred.append(1)\n",
    "    i=i+1\n",
    "print len(pred)\n",
    "print len(X_test)\n",
    "accuracy = accuracy_score(y_test, pred)\n",
    "\n",
    "# TODO: Calculate F-score using the formula above for beta = 0.5\n",
    "fscore = fbeta_score(y_test, pred, beta=0.5)\n",
    "\n",
    "# Print the results \n",
    "print \"Naive Predictor: [Accuracy score: {:.4f}, F-score: {:.4f}]\".format(accuracy, fscore)"
   ]
  },
  {
   "cell_type": "markdown",
   "metadata": {},
   "source": [
    "###  Supverised Learning Models\n",
    "**The following supervised learning models are currently available in** [`scikit-learn`](http://scikit-learn.org/stable/supervised_learning.html) **that you may choose from:**\n",
    "- Gaussian Naive Bayes (GaussianNB)\n",
    "- Decision Trees\n",
    "- Ensemble Methods (Bagging, AdaBoost, Random Forest, Gradient Boosting)\n",
    "- K-Nearest Neighbors (KNeighbors)\n",
    "- Stochastic Gradient Descent Classifier (SGDC)\n",
    "- Support Vector Machines (SVM)\n",
    "- Logistic Regression"
   ]
  },
  {
   "cell_type": "markdown",
   "metadata": {},
   "source": [
    "### Question 2 - Model Application\n",
    "List three of the supervised learning models above that are appropriate for this problem that you will test on the census data. For each model chosen\n",
    "- *Describe one real-world application in industry where the model can be applied.* (You may need to do research for this — give references!)\n",
    "- *What are the strengths of the model; when does it perform well?*\n",
    "- *What are the weaknesses of the model; when does it perform poorly?*\n",
    "- *What makes this model a good candidate for the problem, given what you know about the data?*"
   ]
  },
  {
   "cell_type": "markdown",
   "metadata": {},
   "source": [
    "**Answer: ** Its a problem of discrete binary classification where the algorithm has to classify between 1 and 0. 1 for above 50k and 0 for below 50 k, the three Algorithms which are most appropriate for this problem are :\n",
    "\n",
    "1) KNN or K Nearest Neighbours :  KNN algorithm has many real world applications in which we find the distance between the new case and old cases in the vector space and choose k nearest neighbors. Using nearest neighbors we determine the class of new case. for example in a bank we have to determine the credit rating of a customer. In order to do so we can use KNN to determine the credit history of a new customer based on his features in the vector space. The features would be his age, employment, salary, current balance, yearly average balance, assets etc. These features could tell us what previous customers are his nearest neihbours in the vector space and determine what catagory of credit rating he falls in.\n",
    "\n",
    "Strengths :\n",
    "1) Robust to noisy training data.\n",
    "2) Effective and performance increases if we have large training data\n",
    "3) KNN is a very simple classifier that works well on basic recognition problems.\n",
    "4) KNN has competitive classification performance in many domains like pattern recognition.\n",
    "Weakness:\n",
    "1) Need to determine value for K.\n",
    "2) Since we need to measure distance so we also need to determine which all featues to use for distance calculation. Also other thing to determine is which distance function to use like eculidean, manhattan etc. It sometimes become non-obvious which distance function to apply.\n",
    "3)  Computation cost is high as we have to clculate distance for each new case and the training points. \n",
    "\n",
    "The features in the data available are clear and so in a vector space the neighbors tend to be similar or of same class. KNN seems to be good candidate because we have data where we have given features which represent a case very well and can be far from each in the vector space if they are not related and near if they are.\n",
    "    \n",
    "2) Support Vector Machines (SVM): SVM is traditionally seen as one of the best classifier. The best part of SVM is its non-linear classification. The awesome thing about SVM is the kernel trick. The real world example where SVM can be applied is text catagorization. Text catagorization is a problem where we have to separate text in different catagories for example an app like inshorts can use SVM to catagorize news articles into different types like politics, sports, entertainment etc.\n",
    "\n",
    "Strengths:\n",
    "1) Its a non-linear classifier, and can use kernal trick to separate data in high dimensions.\n",
    "2) It works really well with clear margin of separation.\n",
    "3) It is effective in high dimensional spaces.\n",
    "4) It is effective in cases where number of dimensions is greater than the number of samples.\n",
    "5) It uses a subset of training points in the decision function (called support vectors), so it is also memory efficient. \n",
    "\n",
    "Weakness:\n",
    "1) SVM doesn’t perform well, when we have large data set because the required training time is higher\n",
    "2) SVM also doesn’t perform very well, when the data set has more noise i.e. target classes are overlapping\n",
    "3) SVM doesn’t directly provide probability estimates.\n",
    " \n",
    "SVM is usually seen a best candidate for classification and since it can use kernal trick it can be used for non-linear classification. SVM is a good candidate for this kind of data it is used on this kind of vector data and has been used to create a decision boundary between the classes of training data.  \n",
    "SVM work well when we have sufficient training data and in this case we do have good amount of training data so SVM suits the problem well.\n",
    "\n",
    "3) Ensemble (AdaBoost): Ensemble methods like AdaBoost is good to use for binary classicification. One specific usage of adaboost in industry can be whether a particular image contains an object like a car or not, where having car is classified as boolean 1 and having no car is boolean 0. This type of classifier has in practice many applications forexample given an image of \"kernel of Almond\" we need to classify wheather its quality is high or low quality assuming we know how a high quality kernal looks like or what its features are.\n",
    "\n",
    "Strengths : It was the first successful boosting algorithm developed for binary classification. It has no parameters to tune (except for the number of rounds).\n",
    "\n",
    "It is fast, simple and easy to program ,It comes with a set of theoretical guarantee (e.g., training error, test error). \n",
    "\n",
    "Instead of trying to design a learning algorithm that is accurate over the entire space, we can focus on finding base learning algorithms that only need to be better than random.\n",
    "\n",
    "It can identify outliners: i.e. examples that are either mislabeled or that are inherently ambiguous and hard to categorize. \n",
    "\n",
    "Weakness: The actual performance of boosting depends on the data and the base learner. \n",
    "Boosting is susceptible to noise.\n",
    "When the number of outliners is very large, the emphasis placed on the hard examples can hurt the performance.\n",
    "Because the ensemble method continues to attempt to correct misclassifications in the training data, you need to be careful that the training data is of a high-quality.\n",
    "\n",
    "\n",
    "Since this classification is of type binary so adaboost is one of best methods to be used for this problem. The training data is of high quality with very less noise so adaboost is assumed to perform well. \n"
   ]
  },
  {
   "cell_type": "markdown",
   "metadata": {},
   "source": [
    "### Implementation - Creating a Training and Predicting Pipeline\n",
    "To properly evaluate the performance of each model you've chosen, it's important that you create a training and predicting pipeline that allows you to quickly and effectively train models using various sizes of training data and perform predictions on the testing data. Your implementation here will be used in the following section.\n",
    "In the code block below, you will need to implement the following:\n",
    " - Import `fbeta_score` and `accuracy_score` from [`sklearn.metrics`](http://scikit-learn.org/stable/modules/classes.html#sklearn-metrics-metrics).\n",
    " - Fit the learner to the sampled training data and record the training time.\n",
    " - Perform predictions on the test data `X_test`, and also on the first 300 training points `X_train[:300]`.\n",
    "   - Record the total prediction time.\n",
    " - Calculate the accuracy score for both the training subset and testing set.\n",
    " - Calculate the F-score for both the training subset and testing set.\n",
    "   - Make sure that you set the `beta` parameter!"
   ]
  },
  {
   "cell_type": "code",
   "execution_count": 12,
   "metadata": {
    "collapsed": false
   },
   "outputs": [],
   "source": [
    "# TODO: Import two metrics from sklearn - fbeta_score and accuracy_score\n",
    "from sklearn.metrics import fbeta_score\n",
    "from sklearn.metrics import accuracy_score\n",
    "def train_predict(learner, sample_size, X_train, y_train, X_test, y_test): \n",
    "   \n",
    "   \n",
    "    '''\n",
    "    inputs:\n",
    "       - learner: the learning algorithm to be trained and predicted on\n",
    "       - sample_size: the size of samples (number) to be drawn from training set\n",
    "       - X_train: features training set\n",
    "       - y_train: income training set\n",
    "       - X_test: features testing set\n",
    "       - y_test: income testing set\n",
    "    '''\n",
    "    \n",
    "    results = {}\n",
    "    \n",
    "    # TODO: Fit the learner to the training data using slicing with 'sample_size'\n",
    "    start = time() # Get start time\n",
    "    learner = learner.fit(X_train[0:sample_size], y_train[0:sample_size])\n",
    "    end = time() # Get end time\n",
    "    \n",
    "    # TODO: Calculate the training time\n",
    "    results['train_time'] = end - start\n",
    "     \n",
    "    # TODO: Get the predictions on the test set,\n",
    "    #       then get predictions on the first 300 training samples\n",
    "    start = time() # Get start time\n",
    "    \n",
    "    predictions_test = clf.predict(X_test)\n",
    "    predictions_train = clf.predict(X_train[0:300])\n",
    "    end = time() # Get end time\n",
    "    \n",
    "    # TODO: Calculate the total prediction time\n",
    "    results['pred_time'] = end - start\n",
    "    \n",
    "    # TODO: Compute accuracy on the first 300 training samples\n",
    "    results['acc_train'] = accuracy_score(predictions_train, y_train[0:300])\n",
    "    \n",
    "    # TODO: Compute accuracy on test set\n",
    "    results['acc_test'] = accuracy_score(predictions_test, y_test)\n",
    "    print results['acc_test']\n",
    "    # TODO: Compute F-score on the the first 300 training samples\n",
    "    results['f_train'] = fbeta_score(predictions_train, y_train[0:300], beta=0.5)\n",
    "    \n",
    "    # TODO: Compute F-score on the test set\n",
    "    results['f_test'] = fbeta_score(predictions_test, y_test, beta=0.5)\n",
    "    print results['f_test']\n",
    "    # Success\n",
    "    print \"{} trained on {} samples.\".format(learner.__class__.__name__, sample_size)\n",
    "        \n",
    "    # Return the results\n",
    "    return results"
   ]
  },
  {
   "cell_type": "markdown",
   "metadata": {},
   "source": [
    "### Implementation: Initial Model Evaluation\n",
    "In the code cell, you will need to implement the following:\n",
    "- Import the three supervised learning models you've discussed in the previous section.\n",
    "- Initialize the three models and store them in `'clf_A'`, `'clf_B'`, and `'clf_C'`.\n",
    "  - Use a `'random_state'` for each model you use, if provided.\n",
    "  - **Note:** Use the default settings for each model — you will tune one specific model in a later section.\n",
    "- Calculate the number of records equal to 1%, 10%, and 100% of the training data.\n",
    "  - Store those values in `'samples_1'`, `'samples_10'`, and `'samples_100'` respectively.\n",
    "\n",
    "**Note:** Dependent on which algorithms you chose, the following implementation may take some time to run!"
   ]
  },
  {
   "cell_type": "code",
   "execution_count": 13,
   "metadata": {
    "collapsed": false,
    "scrolled": true
   },
   "outputs": [
    {
     "name": "stdout",
     "output_type": "stream",
     "text": [
      "0.756218905473\n"
     ]
    },
    {
     "name": "stderr",
     "output_type": "stream",
     "text": [
      "/usr/local/lib/python2.7/dist-packages/sklearn/metrics/classification.py:1115: UndefinedMetricWarning: F-score is ill-defined and being set to 0.0 due to no true samples.\n",
      "  'recall', 'true', average, warn_for)\n"
     ]
    },
    {
     "name": "stdout",
     "output_type": "stream",
     "text": [
      "0.0\n",
      "SVC trained on 361 samples.\n",
      "0.776672194583\n",
      "0.108033240997\n",
      "SVC trained on 3617 samples.\n",
      "0.845992260918\n",
      "0.570547417116\n",
      "SVC trained on 36177 samples.\n",
      "0.803427307905\n",
      "0.399018724342\n",
      "KNeighborsClassifier trained on 361 samples.\n",
      "0.816804864566\n",
      "0.460954446855\n",
      "KNeighborsClassifier trained on 3617 samples.\n",
      "0.8271973466\n",
      "0.518895348837\n",
      "KNeighborsClassifier trained on 36177 samples.\n",
      "0.768822553897\n",
      "0.559468616262\n",
      "AdaBoostClassifier trained on 361 samples.\n",
      "0.857158651189\n",
      "0.643024894317\n",
      "AdaBoostClassifier trained on 3617 samples.\n",
      "0.866666666667\n",
      "0.652112276722\n",
      "AdaBoostClassifier trained on 36177 samples.\n"
     ]
    },
    {
     "data": {
      "image/png": "[encoded data removed]",
      "text/plain": [
       "<matplotlib.figure.Figure at 0x7f6c33677c50>"
      ]
     },
     "metadata": {},
     "output_type": "display_data"
    }
   ],
   "source": [
    "# TODO: Import the three supervised learning models from sklearn\n",
    "from sklearn.svm import SVC\n",
    "from sklearn.ensemble import AdaBoostClassifier\n",
    "from sklearn.neighbors import KNeighborsClassifier\n",
    "\n",
    "# TODO: Initialize the three models\n",
    "clf_A = SVC(kernel='rbf')\n",
    "clf_B = KNeighborsClassifier(n_neighbors=8)\n",
    "clf_C = AdaBoostClassifier(n_estimators=200)\n",
    "\n",
    "# TODO: Calculate the number of samples for 1%, 10%, and 100% of the training data\n",
    "datapoints = len(X_train)\n",
    "samples_1 = int(0.01 * datapoints)\n",
    "samples_10 = int(0.1 * datapoints)\n",
    "samples_100 = int(1 * datapoints)\n",
    "\n",
    "# Collect results on the learners\n",
    "results = {}\n",
    "for clf in [clf_A, clf_B, clf_C]:\n",
    "    clf_name = clf.__class__.__name__\n",
    "    results[clf_name] = {}\n",
    "    for i, samples in enumerate([samples_1, samples_10, samples_100]):\n",
    "        results[clf_name][i] = train_predict(clf, samples, X_train, y_train, X_test, y_test)\n",
    "#print results\n",
    "\n",
    "\n",
    "# Run metrics visualization for the three supervised learning models chosen\n",
    "vs.evaluate(results, accuracy, fscore)"
   ]
  },
  {
   "cell_type": "markdown",
   "metadata": {},
   "source": [
    "----\n",
    "## Improving Results\n",
    "In this final section, you will choose from the three supervised learning models the *best* model to use on the student data. You will then perform a grid search optimization for the model over the entire training set (`X_train` and `y_train`) by tuning at least one parameter to improve upon the untuned model's F-score. "
   ]
  },
  {
   "cell_type": "markdown",
   "metadata": {},
   "source": [
    "### Question 3 - Choosing the Best Model\n",
    "*Based on the evaluation you performed earlier, in one to two paragraphs, explain to *CharityML* which of the three models you believe to be most appropriate for the task of identifying individuals that make more than \\$50,000.*  \n",
    "**Hint:** Your answer should include discussion of the metrics, prediction/training time, and the algorithm's suitability for the data."
   ]
  },
  {
   "cell_type": "markdown",
   "metadata": {},
   "source": [
    "**Answer: ** The training time of Adaboost is relatively less than SVM and its prediction performance is a little better aswell. Adaboost can been seen as red bar in the performance matrix. The training time for Adaboost is very less compared to other two models. The prediction time as well as performance seems to be better than the SVM and KNN. The Accuracy on test data for Adaboost when trained on 100% of training data is 0.866 which is better than SVM and KNN! \n",
    "Since the features are dense. The total features are around 504 so Adaboost seems better for this type of data."
   ]
  },
  {
   "cell_type": "markdown",
   "metadata": {},
   "source": [
    "### Question 4 - Describing the Model in Layman's Terms\n",
    "*In one to two paragraphs, explain to *CharityML*, in layman's terms, how the final model chosen is supposed to work. Be sure that you are describing the major qualities of the model, such as how the model is trained and how the model makes a prediction. Avoid using advanced mathematical or technical jargon, such as describing equations or discussing the algorithm implementation.*"
   ]
  },
  {
   "cell_type": "markdown",
   "metadata": {},
   "source": [
    "**Answer: ** Adaboost an ensemble method has been chosen from the three models. Adaboost has fast training time as well as Predicting time. Adaboost is a general ensemble method that creates a strong classifier from a number of weak classifiers. This is done by building a model from the training data, then creating a second model that attempts to correct the errors from the first model. Models are added until the training set is predicted perfectly or a maximum number of models are added. \n",
    "\n",
    "Predictions are made by calculating the weighted average of the weak classifiers. For a new input instance, each weak learner calculates a predicted value as either +1.0 or -1.0. The predicted values are weighted by each weak learners stage value. The prediction for the ensemble model is taken as a the sum of the weighted predictions. If the sum is positive, then the first class is predicted, if negative the second class is predicted."
   ]
  },
  {
   "cell_type": "markdown",
   "metadata": {},
   "source": [
    "### Implementation: Model Tuning\n",
    "Fine tune the chosen model. Use grid search (`GridSearchCV`) with at least one important parameter tuned with at least 3 different values. You will need to use the entire training set for this. In the code cell below, you will need to implement the following:\n",
    "- Import [`sklearn.grid_search.GridSearchCV`](http://scikit-learn.org/0.17/modules/generated/sklearn.grid_search.GridSearchCV.html) and [`sklearn.metrics.make_scorer`](http://scikit-learn.org/stable/modules/generated/sklearn.metrics.make_scorer.html).\n",
    "- Initialize the classifier you've chosen and store it in `clf`.\n",
    " - Set a `random_state` if one is available to the same state you set before.\n",
    "- Create a dictionary of parameters you wish to tune for the chosen model.\n",
    " - Example: `parameters = {'parameter' : [list of values]}`.\n",
    " - **Note:** Avoid tuning the `max_features` parameter of your learner if that parameter is available!\n",
    "- Use `make_scorer` to create an `fbeta_score` scoring object (with $\\beta = 0.5$).\n",
    "- Perform grid search on the classifier `clf` using the `'scorer'`, and store it in `grid_obj`.\n",
    "- Fit the grid search object to the training data (`X_train`, `y_train`), and store it in `grid_fit`.\n",
    "\n",
    "**Note:** Depending on the algorithm chosen and the parameter list, the following implementation may take some time to run!"
   ]
  },
  {
   "cell_type": "code",
   "execution_count": 15,
   "metadata": {
    "collapsed": false
   },
   "outputs": [
    {
     "name": "stdout",
     "output_type": "stream",
     "text": [
      "Unoptimized model\n",
      "------\n",
      "Accuracy score on testing data: 0.8530\n",
      "F-score on testing data: 0.7133\n",
      "\n",
      "Optimized Model\n",
      "------\n",
      "Final accuracy score on the testing data: 0.8674\n",
      "Final F-score on the testing data: 0.7468\n"
     ]
    }
   ],
   "source": [
    "# TODO: Import 'GridSearchCV', 'make_scorer', and any other necessary libraries\n",
    "from sklearn.model_selection import GridSearchCV\n",
    "from sklearn.metrics import fbeta_score, make_scorer\n",
    "from sklearn.tree import DecisionTreeClassifier\n",
    "from sklearn.ensemble import GradientBoostingClassifier\n",
    "from sklearn.ensemble import AdaBoostClassifier\n",
    "# TODO: Initialize the classifier\n",
    "scorer = make_scorer(fbeta_score, beta=0.5)\n",
    "clf = AdaBoostClassifier()\n",
    "# TODO: Create the parameters list you wish to tune\n",
    "parameters ={'n_estimators':[250], 'algorithm':['SAMME.R'],'random_state':[1,10]}\n",
    "\n",
    "# TODO: Perform grid search on the classifier using 'scorer' as the scoring method\n",
    "grid_obj = GridSearchCV(clf, param_grid=parameters, scoring = scorer)\n",
    "\n",
    "# TODO: Fit the grid search object to the training data and find the optimal parameters\n",
    "grid_fit = grid_obj.fit(X_train, y_train)\n",
    "\n",
    "# Get the estimator\n",
    "best_clf = grid_fit.best_estimator_\n",
    "\n",
    "# Make predictions using the unoptimized and model\n",
    "predictions = (clf.fit(X_train, y_train)).predict(X_test)\n",
    "best_predictions = best_clf.predict(X_test)\n",
    "\n",
    "# Report the before-and-afterscores\n",
    "print \"Unoptimized model\\n------\"\n",
    "print \"Accuracy score on testing data: {:.4f}\".format(accuracy_score(y_test, predictions))\n",
    "print \"F-score on testing data: {:.4f}\".format(fbeta_score(y_test, predictions, beta = 0.5))\n",
    "print \"\\nOptimized Model\\n------\"\n",
    "print \"Final accuracy score on the testing data: {:.4f}\".format(accuracy_score(y_test, best_predictions))\n",
    "print \"Final F-score on the testing data: {:.4f}\".format(fbeta_score(y_test, best_predictions, beta = 0.5))"
   ]
  },
  {
   "cell_type": "markdown",
   "metadata": {},
   "source": [
    "### Question 5 - Final Model Evaluation\n",
    "_What is your optimized model's accuracy and F-score on the testing data? Are these scores better or worse than the unoptimized model? How do the results from your optimized model compare to the naive predictor benchmarks you found earlier in **Question 1**?_  \n",
    "**Note:** Fill in the table below with your results, and then provide discussion in the **Answer** box."
   ]
  },
  {
   "cell_type": "markdown",
   "metadata": {},
   "source": [
    "#### Results:\n",
    "\n",
    "|     Metric     | Benchmark Predictor | Unoptimized Model | Optimized Model |\n",
    "| :------------: | :-----------------: | :---------------: | :-------------: | \n",
    "| Accuracy Score |      0.2438         |        0.8530     |    0.8674       |\n",
    "| F-score        |      0.2872         |        0.7133     |    0.7468       |\n"
   ]
  },
  {
   "cell_type": "markdown",
   "metadata": {},
   "source": [
    "**Answer: ** The optimized model is better than the upoptimised model. The results of optimized model are much better than the naive predictor. As we can see the naive predictor have accuracy and F-score of 0.24 and 0.28 respectively however the score of optimized model is 0.86 and 0.74 respectively. It means that training a model with data will surely out perform our assumption of always having income of above 50k. "
   ]
  },
  {
   "cell_type": "markdown",
   "metadata": {},
   "source": [
    "----\n",
    "## Feature Importance\n",
    "\n",
    "An important task when performing supervised learning on a dataset like the census data we study here is determining which features provide the most predictive power. By focusing on the relationship between only a few crucial features and the target label we simplify our understanding of the phenomenon, which is most always a useful thing to do. In the case of this project, that means we wish to identify a small number of features that most strongly predict whether an individual makes at most or more than \\$50,000.\n",
    "\n",
    "Choose a scikit-learn classifier (e.g., adaboost, random forests) that has a `feature_importance_` attribute, which is a function that ranks the importance of features according to the chosen classifier.  In the next python cell fit this classifier to training set and use this attribute to determine the top 5 most important features for the census dataset."
   ]
  },
  {
   "cell_type": "markdown",
   "metadata": {},
   "source": [
    "### Question 6 - Feature Relevance Observation\n",
    "When **Exploring the Data**, it was shown there are thirteen available features for each individual on record in the census data.  \n",
    "_Of these thirteen records, which five features do you believe to be most important for prediction, and in what order would you rank them and why?_"
   ]
  },
  {
   "cell_type": "markdown",
   "metadata": {},
   "source": [
    "**Answer:** Occupation, Education level, Education-num, Work-class, relationship. Occupation is the main factor behind earning as high level manager is expected to earn more than a clerk. \n",
    "\n",
    "Education level come second and third because the more educated means its more likely to earn more.\n",
    "\n",
    "Work class is a factor as private employee tends to earn more than govt employee.\n",
    "\n",
    "Relationship is fifth fator as a person who is husband and settled earn more than who is single. \n",
    "\n",
    "The above were observations made on data !"
   ]
  },
  {
   "cell_type": "markdown",
   "metadata": {},
   "source": [
    "### Implementation - Extracting Feature Importance\n",
    "Choose a `scikit-learn` supervised learning algorithm that has a `feature_importance_` attribute availble for it. This attribute is a function that ranks the importance of each feature when making predictions based on the chosen algorithm.\n",
    "\n",
    "In the code cell below, you will need to implement the following:\n",
    " - Import a supervised learning model from sklearn if it is different from the three used earlier.\n",
    " - Train the supervised model on the entire training set.\n",
    " - Extract the feature importances using `'.feature_importances_'`."
   ]
  },
  {
   "cell_type": "code",
   "execution_count": 33,
   "metadata": {
    "collapsed": false
   },
   "outputs": [
    {
     "data": {
      "image/png": "[encoded data removed]",
      "text/plain": [
       "<matplotlib.figure.Figure at 0x7f36749588d0>"
      ]
     },
     "metadata": {},
     "output_type": "display_data"
    }
   ],
   "source": [
    "# TODO: Import a supervised learning model that has 'feature_importances_'\n",
    "\n",
    "# TODO: Train the supervised model on the training set \n",
    "model = AdaBoostClassifier(n_estimators=150, algorithm='SAMME.R',random_state=10)\n",
    "model.fit(X_train, y_train)\n",
    "# TODO: Extract the feature importances\n",
    "importances = model.feature_importances_ \n",
    "\n",
    "# Plot\n",
    "vs.feature_plot(importances, X_train, y_train)"
   ]
  },
  {
   "cell_type": "markdown",
   "metadata": {},
   "source": [
    "### Question 7 - Extracting Feature Importance\n",
    "\n",
    "Observe the visualization created above which displays the five most relevant features for predicting if an individual makes at most or above \\$50,000.  \n",
    "_How do these five features compare to the five features you discussed in **Question 6**? If you were close to the same answer, how does this visualization confirm your thoughts? If you were not close, why do you think these features are more relevant?_"
   ]
  },
  {
   "cell_type": "markdown",
   "metadata": {},
   "source": [
    "**Answer:** I think the features discussed in question 6 can give more information than the above features. The above features have been best selected from 504 features, I am not sure do they best capture the training data. However the prediction below shows accuracy of 0.78 which makes me guess that the features are capturing training data quite well given only 5 features. so my final conclusion is that these features are better than the features disscused in question 6 as per the accuracy below."
   ]
  },
  {
   "cell_type": "markdown",
   "metadata": {},
   "source": [
    "### Feature Selection\n",
    "How does a model perform if we only use a subset of all the available features in the data? With less features required to train, the expectation is that training and prediction time is much lower — at the cost of performance metrics. From the visualization above, we see that the top five most important features contribute more than half of the importance of **all** features present in the data. This hints that we can attempt to *reduce the feature space* and simplify the information required for the model to learn. The code cell below will use the same optimized model you found earlier, and train it on the same training set *with only the top five important features*. "
   ]
  },
  {
   "cell_type": "code",
   "execution_count": 34,
   "metadata": {
    "collapsed": false
   },
   "outputs": [
    {
     "name": "stdout",
     "output_type": "stream",
     "text": [
      "Final Model trained on full data\n",
      "------\n",
      "Accuracy on testing data: 0.8658\n",
      "F-score on testing data: 0.7440\n",
      "\n",
      "Final Model trained on reduced data\n",
      "------\n",
      "Accuracy on testing data: 0.7814\n",
      "F-score on testing data: 0.5024\n"
     ]
    }
   ],
   "source": [
    "# Import functionality for cloning a model\n",
    "from sklearn.base import clone\n",
    "\n",
    "# Reduce the feature space\n",
    "X_train_reduced = X_train[X_train.columns.values[(np.argsort(importances)[::-1])[:5]]]\n",
    "X_test_reduced = X_test[X_test.columns.values[(np.argsort(importances)[::-1])[:5]]]\n",
    "\n",
    "# Train on the \"best\" model found from grid search earlier\n",
    "clf = (clone(best_clf)).fit(X_train_reduced, y_train)\n",
    "\n",
    "# Make new predictions\n",
    "reduced_predictions = clf.predict(X_test_reduced)\n",
    "\n",
    "# Report scores from the final model using both versions of data\n",
    "print \"Final Model trained on full data\\n------\"\n",
    "print \"Accuracy on testing data: {:.4f}\".format(accuracy_score(y_test, best_predictions))\n",
    "print \"F-score on testing data: {:.4f}\".format(fbeta_score(y_test, best_predictions, beta = 0.5))\n",
    "print \"\\nFinal Model trained on reduced data\\n------\"\n",
    "print \"Accuracy on testing data: {:.4f}\".format(accuracy_score(y_test, reduced_predictions))\n",
    "print \"F-score on testing data: {:.4f}\".format(fbeta_score(y_test, reduced_predictions, beta = 0.5))"
   ]
  },
  {
   "cell_type": "markdown",
   "metadata": {},
   "source": [
    "### Question 8 - Effects of Feature Selection\n",
    "*How does the final model's F-score and accuracy score on the reduced data using only five features compare to those same scores when all features are used?*  \n",
    "*If training time was a factor, would you consider using the reduced data as your training set?*"
   ]
  },
  {
   "cell_type": "markdown",
   "metadata": {},
   "source": [
    "**Answer:** The accuracy and F-score is reduced when using only top five important features as per feature_importance method as compared when using all the features in the deature set.\n",
    "\n",
    "If training time was a factor then i would consider reduced data but not reduced to minimum. There should be enough training data to capture the pattern so that testing data prediction gets captured. In reality we never know how much training data we will need for accuracy to be high or 1. so sometimes a trade off between training time and training data can be made rationally. "
   ]
  },
  {
   "cell_type": "markdown",
   "metadata": {},
   "source": [
    "> **Note**: Once you have completed all of the code implementations and successfully answered each question above, you may finalize your work by exporting the iPython Notebook as an HTML document. You can do this by using the menu above and navigating to  \n",
    "**File -> Download as -> HTML (.html)**. Include the finished document along with this notebook as your submission."
   ]
  }
 ],
 "metadata": {
  "kernelspec": {
   "display_name": "Python 2",
   "language": "python",
   "name": "python2"
  },
  "language_info": {
   "codemirror_mode": {
    "name": "ipython",
    "version": 2
   },
   "file_extension": ".py",
   "mimetype": "text/x-python",
   "name": "python",
   "nbconvert_exporter": "python",
   "pygments_lexer": "ipython2",
   "version": "2.7.6"
  }
 },
 "nbformat": 4,
 "nbformat_minor": 0
}
